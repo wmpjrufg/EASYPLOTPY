{
 "cells": [
  {
   "cell_type": "markdown",
   "id": "1ddbbf09",
   "metadata": {},
   "source": [
    "# Install and import"
   ]
  },
  {
   "cell_type": "markdown",
   "metadata": {},
   "source": [
    "Local execution using folders of the algorithm (don't need to use pip intall), change the path using sys.path.append"
   ]
  },
  {
   "cell_type": "code",
   "execution_count": 1,
   "id": "40d55d39",
   "metadata": {},
   "outputs": [],
   "source": [
    "import sys\n",
    "import pandas as pd\n",
    "# Path to the easyplot toolbox\n",
    "exe_easyplot_dir = r'C:\\Users\\rezio\\OneDrive\\Documentos\\git codes\\EASYPLOTPYDEV\\easyplot_toolbox'\n",
    "\n",
    "sys.path.append(exe_easyplot_dir)\n",
    "\n",
    "from easyplot import bar_chart"
   ]
  },
  {
   "cell_type": "markdown",
   "id": "c9eea1b4",
   "metadata": {},
   "source": [
    "Using the easyplot toolbox package (**pip version**)"
   ]
  },
  {
   "cell_type": "code",
   "execution_count": 2,
   "id": "bb0d610d",
   "metadata": {},
   "outputs": [],
   "source": [
    "#pip install easyplot-toolbox\n",
    "import pandas as pd\n",
    "from easyplot_toolbox import *"
   ]
  },
  {
   "cell_type": "markdown",
   "id": "4e05feb0",
   "metadata": {},
   "source": [
    "# Example 1"
   ]
  },
  {
   "cell_type": "markdown",
   "id": "dde6b85a",
   "metadata": {},
   "source": [
    "We use the `bar_chart` function to plot a chart of a series of random numbers."
   ]
  },
  {
   "cell_type": "code",
   "execution_count": 3,
   "id": "de0367af",
   "metadata": {},
   "outputs": [
    {
     "ename": "KeyError",
     "evalue": "'bar width'",
     "output_type": "error",
     "traceback": [
      "\u001b[1;31m---------------------------------------------------------------------------\u001b[0m",
      "\u001b[1;31mKeyError\u001b[0m                                  Traceback (most recent call last)",
      "Cell \u001b[1;32mIn[3], line 35\u001b[0m\n\u001b[0;32m     32\u001b[0m DATA \u001b[38;5;241m=\u001b[39m {\u001b[38;5;124m'\u001b[39m\u001b[38;5;124mdataset\u001b[39m\u001b[38;5;124m'\u001b[39m: DF}\n\u001b[0;32m     34\u001b[0m \u001b[38;5;66;03m# Call function\u001b[39;00m\n\u001b[1;32m---> 35\u001b[0m \u001b[43mbar_chart\u001b[49m\u001b[43m(\u001b[49m\u001b[43mdataset\u001b[49m\u001b[38;5;241;43m=\u001b[39;49m\u001b[43m \u001b[49m\u001b[43mDATA\u001b[49m\u001b[43m,\u001b[49m\u001b[43m \u001b[49m\u001b[43mplot_setup\u001b[49m\u001b[38;5;241;43m=\u001b[39;49m\u001b[43m \u001b[49m\u001b[43mchart_config\u001b[49m\u001b[43m)\u001b[49m\n",
      "File \u001b[1;32mc:\\Users\\rezio\\OneDrive\\Documentos\\git codes\\ambiente_execucao\\Lib\\site-packages\\easyplot_toolbox\\easyplot.py:445\u001b[0m, in \u001b[0;36mbar_chart\u001b[1;34m(**kwargs)\u001b[0m\n\u001b[0;32m    443\u001b[0m w \u001b[38;5;241m=\u001b[39m plot_setup[\u001b[38;5;124m'\u001b[39m\u001b[38;5;124mwidth\u001b[39m\u001b[38;5;124m'\u001b[39m]\n\u001b[0;32m    444\u001b[0m h \u001b[38;5;241m=\u001b[39m plot_setup[\u001b[38;5;124m'\u001b[39m\u001b[38;5;124mheight\u001b[39m\u001b[38;5;124m'\u001b[39m]\n\u001b[1;32m--> 445\u001b[0m bar_width \u001b[38;5;241m=\u001b[39m \u001b[43mplot_setup\u001b[49m\u001b[43m[\u001b[49m\u001b[38;5;124;43m'\u001b[39;49m\u001b[38;5;124;43mbar width\u001b[39;49m\u001b[38;5;124;43m'\u001b[39;49m\u001b[43m]\u001b[49m\n\u001b[0;32m    446\u001b[0m opacity \u001b[38;5;241m=\u001b[39m plot_setup[\u001b[38;5;124m'\u001b[39m\u001b[38;5;124mopacity\u001b[39m\u001b[38;5;124m'\u001b[39m]\n\u001b[0;32m    447\u001b[0m y_axis_label \u001b[38;5;241m=\u001b[39m plot_setup[\u001b[38;5;124m'\u001b[39m\u001b[38;5;124my_axis_label\u001b[39m\u001b[38;5;124m'\u001b[39m]\n",
      "\u001b[1;31mKeyError\u001b[0m: 'bar width'"
     ]
    }
   ],
   "source": [
    "# Data\n",
    "DF =  pd.DataFrame({'x': ['2013', '2014', '2015', '2016', '2017', '2018', '2019', '2020', '2021', '2022'],\n",
    "                    'Action': [15.00, 16.00, 17.00, 18.00, 19.00, 20.00, 21.00, 22.00, 23.00, 24.00],\n",
    "                    'Comedy': [12.00, 13.00, 14.00, 15.00, 16.00, 17.00, 18.00, 19.00, 20.00, 21.00],\n",
    "                    'Drama': [9.00, 10.00, 11.00, 12.00, 13.00, 14.00, 15.00, 16.00, 17.00, 18.00],\n",
    "                    'Horror': [8.00, 9.00, 10.00, 11.00, 12.00, 13.00, 14.00, 15.00, 16.00, 17.00],\n",
    "                    'Romance': [10.00, 11.00, 12.00, 13.00, 14.00, 15.00, 16.00, 17.00, 18.00, 19.00]\n",
    "                   })\n",
    "\n",
    "# Chart setup  \n",
    "chart_config = {\n",
    "    'name': 'figure1-4-1_bar',\n",
    "    'width': 20, \n",
    "    'height': 12,\n",
    "    'bar_width': .10,\n",
    "    'opacity': 0.7,\n",
    "    'y_axis_label': 'Revenue (USD billion)',\n",
    "    'y_axis_size': 14,\n",
    "    'x_axis_label': 'Year',\n",
    "    'x_axis_size': 14,\n",
    "    'axises_color': 'green',\n",
    "    'labels_size': 14,\n",
    "    'labels_color': 'blue',\n",
    "    'colors': ['#E53935', '#FFB300', '#1E88E5', '#4CAF50', '#9C27B0'],\n",
    "    'on_grid': True,\n",
    "    'y_log': False,\n",
    "    'dots_per_inch': 600, \n",
    "    'extension': 'svg',\n",
    "}\n",
    "\n",
    "# Data statement \n",
    "DATA = {'dataset': DF}\n",
    "\n",
    "# Call function\n",
    "bar_chart(dataset= DATA, plot_setup= chart_config)"
   ]
  },
  {
   "cell_type": "markdown",
   "metadata": {},
   "source": [
    "# 3. Example 2"
   ]
  },
  {
   "cell_type": "code",
   "execution_count": null,
   "id": "b4314be0",
   "metadata": {},
   "outputs": [],
   "source": []
  },
  {
   "cell_type": "code",
   "execution_count": null,
   "metadata": {},
   "outputs": [
    {
     "ename": "KeyError",
     "evalue": "'y_axis_label'",
     "output_type": "error",
     "traceback": [
      "\u001b[1;31m---------------------------------------------------------------------------\u001b[0m",
      "\u001b[1;31mKeyError\u001b[0m                                  Traceback (most recent call last)",
      "Cell \u001b[1;32mIn[4], line 32\u001b[0m\n\u001b[0;32m     29\u001b[0m DATA \u001b[38;5;241m=\u001b[39m {\u001b[38;5;124m'\u001b[39m\u001b[38;5;124mdataset\u001b[39m\u001b[38;5;124m'\u001b[39m: DF}\n\u001b[0;32m     31\u001b[0m \u001b[38;5;66;03m# Call function\u001b[39;00m\n\u001b[1;32m---> 32\u001b[0m \u001b[43mbar_chart\u001b[49m\u001b[43m(\u001b[49m\u001b[43mdataset\u001b[49m\u001b[43m \u001b[49m\u001b[38;5;241;43m=\u001b[39;49m\u001b[43m \u001b[49m\u001b[43mDATA\u001b[49m\u001b[43m,\u001b[49m\u001b[43m \u001b[49m\u001b[43mplot_setup\u001b[49m\u001b[43m \u001b[49m\u001b[38;5;241;43m=\u001b[39;49m\u001b[43m \u001b[49m\u001b[43mchart_config\u001b[49m\u001b[43m)\u001b[49m\n",
      "File \u001b[1;32mc:\\Users\\rezio\\OneDrive\\Documentos\\git codes\\ambiente_execucao\\Lib\\site-packages\\easyplot_toolbox\\easyplot.py:447\u001b[0m, in \u001b[0;36mbar_chart\u001b[1;34m(**kwargs)\u001b[0m\n\u001b[0;32m    445\u001b[0m bar_width \u001b[38;5;241m=\u001b[39m plot_setup[\u001b[38;5;124m'\u001b[39m\u001b[38;5;124mbar width\u001b[39m\u001b[38;5;124m'\u001b[39m]\n\u001b[0;32m    446\u001b[0m opacity \u001b[38;5;241m=\u001b[39m plot_setup[\u001b[38;5;124m'\u001b[39m\u001b[38;5;124mopacity\u001b[39m\u001b[38;5;124m'\u001b[39m]\n\u001b[1;32m--> 447\u001b[0m y_axis_label \u001b[38;5;241m=\u001b[39m \u001b[43mplot_setup\u001b[49m\u001b[43m[\u001b[49m\u001b[38;5;124;43m'\u001b[39;49m\u001b[38;5;124;43my_axis_label\u001b[39;49m\u001b[38;5;124;43m'\u001b[39;49m\u001b[43m]\u001b[49m\n\u001b[0;32m    448\u001b[0m x_axis_label \u001b[38;5;241m=\u001b[39m plot_setup[\u001b[38;5;124m'\u001b[39m\u001b[38;5;124mx_axis_label\u001b[39m\u001b[38;5;124m'\u001b[39m]\n\u001b[0;32m    449\u001b[0m x_axis_size \u001b[38;5;241m=\u001b[39m plot_setup[\u001b[38;5;124m'\u001b[39m\u001b[38;5;124mx_axis_size\u001b[39m\u001b[38;5;124m'\u001b[39m]\n",
      "\u001b[1;31mKeyError\u001b[0m: 'y_axis_label'"
     ]
    }
   ],
   "source": [
    "# Data\n",
    "DF =  pd.DataFrame({'x': ['2013', '2014', '2015', '2016', '2017', '2018', '2019', '2020', '2021', '2022'],\n",
    "                    'Action': [1500, 1600, 1700, 1800, 1900, 2000, 2100, 2200, 2300, 2400],\n",
    "                   })\n",
    "\n",
    "# Chart setup  \n",
    "chart_config = {\n",
    "              'name': 'figure7',\n",
    "              'width': 20, \n",
    "              'height': 12,\n",
    "              'bar_width': .10,\n",
    "              'opacity': 0.7,\n",
    "              'y_axis_label': 'Revenue (in millions)',\n",
    "              'y_axis_size': 14,\n",
    "              'x_axis_label': 'Year',\n",
    "              'x_axis_size': 14,\n",
    "              'axises_color': '#000000',\n",
    "              'labels_size': 14,\n",
    "              'labels_color': '#000000',\n",
    "              'colors': ['#E53935'],\n",
    "              'on grid?': True,\n",
    "              'y_log': False,\n",
    "              'dots per inch': 600, \n",
    "              'extension': 'svg',\n",
    "             }\n",
    "\n",
    "\n",
    "# Data statement \n",
    "DATA = {'dataset': DF}\n",
    "\n",
    "# Call function\n",
    "bar_chart(dataset = DATA, plot_setup = chart_config)"
   ]
  },
  {
   "cell_type": "markdown",
   "metadata": {},
   "source": [
    "# 4. Example 3"
   ]
  },
  {
   "cell_type": "code",
   "execution_count": null,
   "metadata": {},
   "outputs": [
    {
     "ename": "TypeError",
     "evalue": "'NoneType' object is not subscriptable",
     "output_type": "error",
     "traceback": [
      "\u001b[0;31m---------------------------------------------------------------------------\u001b[0m",
      "\u001b[0;31mTypeError\u001b[0m                                 Traceback (most recent call last)",
      "Cell \u001b[0;32mIn[5], line 32\u001b[0m\n\u001b[1;32m     29\u001b[0m DATA \u001b[38;5;241m=\u001b[39m {\u001b[38;5;124m'\u001b[39m\u001b[38;5;124mDATASET\u001b[39m\u001b[38;5;124m'\u001b[39m: DF}\n\u001b[1;32m     31\u001b[0m \u001b[38;5;66;03m# Call function\u001b[39;00m\n\u001b[0;32m---> 32\u001b[0m \u001b[43mbar_chart\u001b[49m\u001b[43m(\u001b[49m\u001b[43mDATASET\u001b[49m\u001b[43m \u001b[49m\u001b[38;5;241;43m=\u001b[39;49m\u001b[43m \u001b[49m\u001b[43mDATA\u001b[49m\u001b[43m,\u001b[49m\u001b[43m \u001b[49m\u001b[43mPLOT_SETUP\u001b[49m\u001b[43m \u001b[49m\u001b[38;5;241;43m=\u001b[39;49m\u001b[43m \u001b[49m\u001b[43mCHART_CONFIG\u001b[49m\u001b[43m)\u001b[49m\n",
      "File \u001b[0;32m~/git-hub projects/EASYPLOTPYDEV/easyplot_toolbox/easyplot.py:416\u001b[0m, in \u001b[0;36mbar_chart\u001b[0;34m(**kwargs)\u001b[0m\n\u001b[1;32m    414\u001b[0m dataset \u001b[38;5;241m=\u001b[39m kwargs\u001b[38;5;241m.\u001b[39mget(\u001b[38;5;124m'\u001b[39m\u001b[38;5;124mdataset\u001b[39m\u001b[38;5;124m'\u001b[39m)\n\u001b[1;32m    415\u001b[0m plot_setup \u001b[38;5;241m=\u001b[39m kwargs\u001b[38;5;241m.\u001b[39mget(\u001b[38;5;124m'\u001b[39m\u001b[38;5;124mplot_setup\u001b[39m\u001b[38;5;124m'\u001b[39m)\n\u001b[0;32m--> 416\u001b[0m name \u001b[38;5;241m=\u001b[39m \u001b[43mplot_setup\u001b[49m\u001b[43m[\u001b[49m\u001b[38;5;124;43m'\u001b[39;49m\u001b[38;5;124;43mname\u001b[39;49m\u001b[38;5;124;43m'\u001b[39;49m\u001b[43m]\u001b[49m\n\u001b[1;32m    417\u001b[0m w \u001b[38;5;241m=\u001b[39m plot_setup[\u001b[38;5;124m'\u001b[39m\u001b[38;5;124mwidth\u001b[39m\u001b[38;5;124m'\u001b[39m]\n\u001b[1;32m    418\u001b[0m h \u001b[38;5;241m=\u001b[39m plot_setup[\u001b[38;5;124m'\u001b[39m\u001b[38;5;124mheight\u001b[39m\u001b[38;5;124m'\u001b[39m]\n",
      "\u001b[0;31mTypeError\u001b[0m: 'NoneType' object is not subscriptable"
     ]
    }
   ],
   "source": [
    "# Data\n",
    "DF =  pd.DataFrame({'x': ['2013', '2014', '2015', '2016', '2017', '2018', '2019', '2020', '2021', '2022'],\n",
    "                    'Horror': [800, 900, 1000, 1100, 1200, 1300, 1400, 1500, 1600, 1700],\n",
    "                    'Romance': [1000, 1100, 1200, 1300, 1400, 1500, 1600, 1700, 1800, 1900],\n",
    "                   })\n",
    "\n",
    "# Chart setup  \n",
    "CHART_CONFIG = {\n",
    "              'NAME': 'figure7',\n",
    "              'WIDTH': 20, \n",
    "              'HEIGHT': 12,\n",
    "              'BAR WIDTH': .10,\n",
    "              'OPACITY': 0.7,\n",
    "              'Y AXIS LABEL': 'Revenue (in millions)',\n",
    "              'Y AXIS SIZE': 14,\n",
    "              'X AXIS LABEL': 'Year',\n",
    "              'X AXIS SIZE': 14,\n",
    "              'AXISES COLOR': '#000000',\n",
    "              'LABELS SIZE': 14,\n",
    "              'LABELS COLOR': '#000000',\n",
    "              'COLORS': ['#E53935', '#FFB300'],\n",
    "              'ON GRID?': True,\n",
    "              'Y LOG': False,\n",
    "              'DPI': 600, \n",
    "              'EXTENSION': 'svg',\n",
    "             }\n",
    "\n",
    "# Data statement \n",
    "DATA = {'DATASET': DF}\n",
    "\n",
    "# Call function\n",
    "bar_chart(DATASET = DATA, PLOT_SETUP = CHART_CONFIG)"
   ]
  }
 ],
 "metadata": {
  "kernelspec": {
   "display_name": "ambiente_execucao",
   "language": "python",
   "name": "python3"
  },
  "language_info": {
   "codemirror_mode": {
    "name": "ipython",
    "version": 3
   },
   "file_extension": ".py",
   "mimetype": "text/x-python",
   "name": "python",
   "nbconvert_exporter": "python",
   "pygments_lexer": "ipython3",
   "version": "3.12.7"
  }
 },
 "nbformat": 4,
 "nbformat_minor": 5
}
