{
 "cells": [
  {
   "cell_type": "markdown",
   "metadata": {},
   "source": [
    "# Install and import"
   ]
  },
  {
   "cell_type": "markdown",
   "metadata": {},
   "source": [
    "Local execution using folders of the algorithm (**don't need to use pip intall**), change the path using sys.path.append (**Downloaded project from GitHub**)."
   ]
  },
  {
   "cell_type": "code",
   "execution_count": 1,
   "metadata": {},
   "outputs": [],
   "source": [
    "import sys\n",
    "import numpy as np\n",
    "\n",
    "# Path to the easyplot toolbox\n",
    "exe_easyplot_dir = r'C:\\Users\\wander\\Documents\\GitHub\\EASYPLOT_TOOLBOOXdev\\easyplot_toolbox'\n",
    "\n",
    "sys.path.append(exe_easyplot_dir)\n",
    "\n",
    "from easyplot import smooth_line"
   ]
  },
  {
   "cell_type": "markdown",
   "metadata": {},
   "source": [
    "Using the easyplot toolbox package (**pip version**)."
   ]
  },
  {
   "cell_type": "markdown",
   "metadata": {},
   "source": [
    "### **Example 1**"
   ]
  },
  {
   "cell_type": "markdown",
   "metadata": {},
   "source": [
    "We use the `smooth_line` function to plot a series of random numbers."
   ]
  },
  {
   "cell_type": "code",
   "execution_count": 2,
   "metadata": {},
   "outputs": [
    {
     "ename": "UnboundLocalError",
     "evalue": "cannot access local variable 'dataset' where it is not associated with a value",
     "output_type": "error",
     "traceback": [
      "\u001b[1;31m---------------------------------------------------------------------------\u001b[0m",
      "\u001b[1;31mUnboundLocalError\u001b[0m                         Traceback (most recent call last)",
      "Cell \u001b[1;32mIn[2], line 40\u001b[0m\n\u001b[0;32m     32\u001b[0m dataset \u001b[38;5;241m=\u001b[39m {\n\u001b[0;32m     33\u001b[0m     \u001b[38;5;124m'\u001b[39m\u001b[38;5;124mx\u001b[39m\u001b[38;5;124m'\u001b[39m: x_values,\n\u001b[0;32m     34\u001b[0m     \u001b[38;5;124m'\u001b[39m\u001b[38;5;124mcurve1\u001b[39m\u001b[38;5;124m'\u001b[39m: curve1,\n\u001b[0;32m     35\u001b[0m     \u001b[38;5;124m'\u001b[39m\u001b[38;5;124mcurve2\u001b[39m\u001b[38;5;124m'\u001b[39m: curve2,\n\u001b[0;32m     36\u001b[0m     \u001b[38;5;124m'\u001b[39m\u001b[38;5;124mcurve3\u001b[39m\u001b[38;5;124m'\u001b[39m: curve3\n\u001b[0;32m     37\u001b[0m }\n\u001b[0;32m     39\u001b[0m \u001b[38;5;66;03m# Call function\u001b[39;00m\n\u001b[1;32m---> 40\u001b[0m \u001b[43msmooth_line\u001b[49m\u001b[43m(\u001b[49m\u001b[43mplot_setup\u001b[49m\u001b[38;5;241;43m=\u001b[39;49m\u001b[43mplot_setup\u001b[49m\u001b[43m,\u001b[49m\u001b[43m \u001b[49m\u001b[43mdataset\u001b[49m\u001b[38;5;241;43m=\u001b[39;49m\u001b[43mdataset\u001b[49m\u001b[43m)\u001b[49m\n",
      "File \u001b[1;32m~\\Documents\\GitHub\\EASYPLOT_TOOLBOOXdev\\easyplot_toolbox\\easyplot.py:563\u001b[0m, in \u001b[0;36msmooth_line\u001b[1;34m(**kwargs)\u001b[0m\n\u001b[0;32m    560\u001b[0m size_legend \u001b[38;5;241m=\u001b[39m plot_setup\u001b[38;5;241m.\u001b[39mget(\u001b[38;5;124m'\u001b[39m\u001b[38;5;124msize_legend\u001b[39m\u001b[38;5;124m'\u001b[39m)\n\u001b[0;32m    562\u001b[0m \u001b[38;5;66;03m# Dataset\u001b[39;00m\n\u001b[1;32m--> 563\u001b[0m \u001b[38;5;28mprint\u001b[39m(\u001b[43mdataset\u001b[49m)\n\u001b[0;32m    564\u001b[0m dataset \u001b[38;5;241m=\u001b[39m kwargs\u001b[38;5;241m.\u001b[39mget(\u001b[38;5;124m'\u001b[39m\u001b[38;5;124mdataset\u001b[39m\u001b[38;5;124m'\u001b[39m)\n\u001b[0;32m    565\u001b[0m x_dataset \u001b[38;5;241m=\u001b[39m dataset[\u001b[38;5;124m'\u001b[39m\u001b[38;5;124mx\u001b[39m\u001b[38;5;124m'\u001b[39m]\n",
      "\u001b[1;31mUnboundLocalError\u001b[0m: cannot access local variable 'dataset' where it is not associated with a value"
     ]
    }
   ],
   "source": [
    "# Chart setup\n",
    "plot_setup = {\n",
    "    'name': 'smooth_line_chart',\n",
    "    'width': 15.0,           # largura em cm\n",
    "    'height': 10.0,          # altura em cm\n",
    "    'extension': 'png',\n",
    "    'dots_per_inch': 300,\n",
    "    'line_width': [2],\n",
    "    'line_style': ['-'],\n",
    "    'y_axis_label': 'Y Axis',\n",
    "    'x_axis_label': 'X Axis',\n",
    "    'labels_size': 12,\n",
    "    'labels_color': 'black',\n",
    "    'x_axis_size': 10,\n",
    "    'y_axis_size': 10,\n",
    "    'axises_color': 'blue',\n",
    "    'x_limit': [0, 10],\n",
    "    'y_limit': [0, 1],\n",
    "    'chart_color': ['blue', 'green'],\n",
    "    'on_grid': True,\n",
    "    'y_log': False,\n",
    "    'x_log': False,\n",
    "    'legend_location': 'upper right',\n",
    "    'size_legend': 10\n",
    "}\n",
    "\n",
    "# Dataset example\n",
    "x_values = list(np.linspace(0, 10, 5))\n",
    "curve1 = list(np.sin(x_values) * 0.1 + 0.5)\n",
    "curve2 = list(np.sin(x_values) * 0.2 + 0.5)\n",
    "curve3 = list(np.sin(x_values) * 0.3 + 0.5)\n",
    "dataset = {\n",
    "    'x': x_values,\n",
    "    'curve1': curve1,\n",
    "    'curve2': curve2,\n",
    "    'curve3': curve3\n",
    "}\n",
    "\n",
    "# Call function\n",
    "smooth_line(plot_setup=plot_setup, dataset=dataset)\n"
   ]
  }
 ],
 "metadata": {
  "kernelspec": {
   "display_name": "Python 3",
   "language": "python",
   "name": "python3"
  },
  "language_info": {
   "codemirror_mode": {
    "name": "ipython",
    "version": 3
   },
   "file_extension": ".py",
   "mimetype": "text/x-python",
   "name": "python",
   "nbconvert_exporter": "python",
   "pygments_lexer": "ipython3",
   "version": "3.13.0"
  }
 },
 "nbformat": 4,
 "nbformat_minor": 2
}
