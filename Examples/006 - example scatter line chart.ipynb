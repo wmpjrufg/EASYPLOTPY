{
 "cells": [
  {
   "cell_type": "markdown",
   "metadata": {},
   "source": [
    "# 1. Install and import"
   ]
  },
  {
   "cell_type": "markdown",
   "metadata": {},
   "source": [
    "Local execution using folders of the algorithm (don't need to use pip intall), change the path using sys.path.append"
   ]
  },
  {
   "cell_type": "code",
   "execution_count": 1,
   "metadata": {},
   "outputs": [
    {
     "name": "stdout",
     "output_type": "stream",
     "text": [
      "\n",
      "Matplotlib interactive mode is currently OFF. It is recommended to use a suitable matplotlib backend and turn it on by calling matplotlib.pyplot.ion()\n",
      "\n"
     ]
    }
   ],
   "source": [
    "import sys\n",
    "FOLDER_PATH_EASYPLOT = r'C:\\Users\\wande\\OneDrive\\Documentos\\GitHub\\EASYPLOTPYDEV\\easyplot_toolbox'\n",
    "#FOLDER_PATH_EASYPLOT = '/home/nero/git-hub projects/EASYPLOTPYDEV/EASYPLOT_TOOLBOX/'\n",
    "sys.path.append(FOLDER_PATH_EASYPLOT)\n",
    "\n",
    "from easyplot import *\n",
    "import numpy as np"
   ]
  },
  {
   "cell_type": "markdown",
   "metadata": {},
   "source": [
    "Using the easyplot toolbox package (**pip version**)"
   ]
  },
  {
   "cell_type": "code",
   "execution_count": 2,
   "metadata": {},
   "outputs": [],
   "source": [
    "#pip install easyplot-toolbox\n",
    "#from easyplot_toolbox import *"
   ]
  },
  {
   "cell_type": "markdown",
   "metadata": {},
   "source": [
    "# Example 1"
   ]
  },
  {
   "cell_type": "markdown",
   "metadata": {},
   "source": [
    "We use the `scatter_chart` function to plot a series of random numbers "
   ]
  },
  {
   "cell_type": "code",
   "execution_count": 3,
   "metadata": {},
   "outputs": [
    {
     "ename": "NameError",
     "evalue": "name 'scatter_line_chart' is not defined",
     "output_type": "error",
     "traceback": [
      "\u001b[0;31m---------------------------------------------------------------------------\u001b[0m",
      "\u001b[0;31mNameError\u001b[0m                                 Traceback (most recent call last)",
      "Cell \u001b[0;32mIn[3], line 53\u001b[0m\n\u001b[1;32m     21\u001b[0m setup \u001b[38;5;241m=\u001b[39m {\n\u001b[1;32m     22\u001b[0m         \u001b[38;5;124m'\u001b[39m\u001b[38;5;124mname\u001b[39m\u001b[38;5;124m'\u001b[39m: \u001b[38;5;124m'\u001b[39m\u001b[38;5;124mscatter plot\u001b[39m\u001b[38;5;124m'\u001b[39m,\n\u001b[1;32m     23\u001b[0m         \u001b[38;5;124m'\u001b[39m\u001b[38;5;124mwidth\u001b[39m\u001b[38;5;124m'\u001b[39m: \u001b[38;5;241m10\u001b[39m, \n\u001b[0;32m   (...)\u001b[0m\n\u001b[1;32m     49\u001b[0m         \u001b[38;5;124m'\u001b[39m\u001b[38;5;124msize_legend\u001b[39m\u001b[38;5;124m'\u001b[39m: \u001b[38;5;241m12\u001b[39m\n\u001b[1;32m     50\u001b[0m     }\n\u001b[1;32m     52\u001b[0m \u001b[38;5;66;03m# Call function\u001b[39;00m\n\u001b[0;32m---> 53\u001b[0m \u001b[43mscatter_line_chart\u001b[49m(plot_setup\u001b[38;5;241m=\u001b[39msetup, dataset_line\u001b[38;5;241m=\u001b[39mdf_li, dataset_sc\u001b[38;5;241m=\u001b[39mdf_sc)\n",
      "\u001b[0;31mNameError\u001b[0m: name 'scatter_line_chart' is not defined"
     ]
    }
   ],
   "source": [
    "# Data\n",
    "x = np.linspace(0, 10, 20)\n",
    "y0 = 2 * x + 1 + np.random.normal(0, 1, 20)\n",
    "y1 = 3 * x + 1.5 + np.random.normal(0, 1, 20)\n",
    "y3 = 2.5 * x\n",
    "\n",
    "df_sc =  {\n",
    "        'x0': list(x),\n",
    "        'y0': list(y0),\n",
    "        'x1': list(x),\n",
    "        'y1': list(y1)\n",
    "      }\n",
    "\n",
    "df_li = { \n",
    "        'x0': list(x),\n",
    "        'y0': list(y3)\n",
    "     }\n",
    "\n",
    "\n",
    "# Chart setup\n",
    "setup = {\n",
    "        'name': 'scatter plot',\n",
    "        'width': 10, \n",
    "        'height': 6,\n",
    "        'dots_per_inch': 600, \n",
    "        'extension': 'svg',\n",
    "        'marker_line': [None],\n",
    "        'marker_size_line': [None],\n",
    "        'marker_size_scatter': [None]*2,\n",
    "        'line_width': [1.5],\n",
    "        'line_style': ['-'],\n",
    "        'y_axis_label': 'Height',\n",
    "        'x_axis_label': 'Weight',\n",
    "        'labels_size': 14,\n",
    "        'labels_color': 'black', \n",
    "        'y_axis_size': 14,\n",
    "        'x_axis_size': 14,\n",
    "        'axises_color': '#000000',\n",
    "        'x_limit': None,\n",
    "        'y_limit': None,\n",
    "        'chart_color_line': ['blue'],\n",
    "        'color_map': ['green', 'red'],\n",
    "        'on_grid': False,\n",
    "        'y_log': False,\n",
    "        'x_log': False,\n",
    "        'legend_line': ['mean value'],\n",
    "        'legend_scatter': [None]*2,\n",
    "        'legend_location': 'upper left',\n",
    "        'size_legend': 12\n",
    "    }\n",
    "\n",
    "# Call function\n",
    "scatter_line_chart(plot_setup=setup, dataset_line=df_li, dataset_sc=df_sc)\n"
   ]
  }
 ],
 "metadata": {
  "kernelspec": {
   "display_name": "Python 3",
   "language": "python",
   "name": "python3"
  },
  "language_info": {
   "codemirror_mode": {
    "name": "ipython",
    "version": 3
   },
   "file_extension": ".py",
   "mimetype": "text/x-python",
   "name": "python",
   "nbconvert_exporter": "python",
   "pygments_lexer": "ipython3",
   "version": "3.10.12"
  },
  "orig_nbformat": 4
 },
 "nbformat": 4,
 "nbformat_minor": 2
}
